{
 "cells": [
  {
   "cell_type": "markdown",
   "id": "58963f38",
   "metadata": {},
   "source": [
    "# compress loan_model.ipynb"
   ]
  },
  {
   "cell_type": "markdown",
   "id": "3537b0ad",
   "metadata": {},
   "source": [
    "### import all required libraries"
   ]
  },
  {
   "cell_type": "code",
   "execution_count": 1,
   "id": "6c1936b9",
   "metadata": {},
   "outputs": [],
   "source": [
    "import bz2\n",
    "import pickle\n",
    "from joblib import load"
   ]
  },
  {
   "cell_type": "markdown",
   "id": "7fb53f44",
   "metadata": {},
   "source": [
    "### Load your existing model"
   ]
  },
  {
   "cell_type": "code",
   "execution_count": 2,
   "id": "89bc257d",
   "metadata": {},
   "outputs": [],
   "source": [
    "model = load('loan_model.joblib')\n"
   ]
  },
  {
   "cell_type": "code",
   "execution_count": 3,
   "id": "6755d473",
   "metadata": {},
   "outputs": [],
   "source": [
    "def compressed_pickle(title, data):\n",
    "    \"\"\"Compress and save data using bzip2\"\"\"\n",
    "    with bz2.BZ2File(title + '.pbz2', 'wb') as f:\n",
    "        pickle.dump(data, f)\n"
   ]
  },
  {
   "cell_type": "markdown",
   "id": "e0db3628",
   "metadata": {},
   "source": [
    "### Compress and save your model (will be ~5-10x smaller)"
   ]
  },
  {
   "cell_type": "code",
   "execution_count": 4,
   "id": "18ec6e58",
   "metadata": {},
   "outputs": [],
   "source": [
    "compressed_pickle('compressed_loan_model', model)"
   ]
  },
  {
   "cell_type": "markdown",
   "id": "7ce3ff59",
   "metadata": {},
   "source": [
    "### Step 2: Create a Loading Utility"
   ]
  },
  {
   "cell_type": "code",
   "execution_count": 5,
   "id": "708df5c0",
   "metadata": {},
   "outputs": [],
   "source": [
    "def load_compressed_model(file_path):\n",
    "    \"\"\"Load a bzip2 compressed model\"\"\"\n",
    "    with bz2.BZ2File(file_path, 'rb') as f:\n",
    "        return pickle.load(f)\n",
    "    \n",
    "# Usage example:\n",
    "model = load_compressed_model('compressed_loan_model.pbz2')"
   ]
  },
  {
   "cell_type": "markdown",
   "id": "098b5bf7",
   "metadata": {},
   "source": [
    "### Step 3: Update Your Streamlit App"
   ]
  },
  {
   "cell_type": "code",
   "execution_count": 6,
   "id": "4e2ac4ce",
   "metadata": {},
   "outputs": [
    {
     "name": "stderr",
     "output_type": "stream",
     "text": [
      "2025-06-12 20:02:22.761 WARNING streamlit.runtime.scriptrunner_utils.script_run_context: Thread 'MainThread': missing ScriptRunContext! This warning can be ignored when running in bare mode.\n",
      "2025-06-12 20:02:24.618 \n",
      "  \u001b[33m\u001b[1mWarning:\u001b[0m to view this Streamlit app on a browser, run it with the following\n",
      "  command:\n",
      "\n",
      "    streamlit run C:\\Users\\Admin\\AppData\\Roaming\\Python\\Python312\\site-packages\\ipykernel_launcher.py [ARGUMENTS]\n",
      "2025-06-12 20:02:24.633 Thread 'MainThread': missing ScriptRunContext! This warning can be ignored when running in bare mode.\n",
      "2025-06-12 20:02:24.633 Thread 'MainThread': missing ScriptRunContext! This warning can be ignored when running in bare mode.\n",
      "2025-06-12 20:02:25.148 Thread 'Thread-3': missing ScriptRunContext! This warning can be ignored when running in bare mode.\n",
      "2025-06-12 20:02:25.148 Thread 'Thread-3': missing ScriptRunContext! This warning can be ignored when running in bare mode.\n",
      "2025-06-12 20:02:28.577 Thread 'MainThread': missing ScriptRunContext! This warning can be ignored when running in bare mode.\n",
      "2025-06-12 20:02:28.577 Thread 'MainThread': missing ScriptRunContext! This warning can be ignored when running in bare mode.\n"
     ]
    }
   ],
   "source": [
    "import streamlit as st\n",
    "import bz2\n",
    "import pickle\n",
    "\n",
    "@st.cache_resource\n",
    "def load_model():\n",
    "    with bz2.BZ2File('compressed_loan_model.pbz2', 'rb') as f:\n",
    "        return pickle.load(f)\n",
    "\n",
    "model = load_model()"
   ]
  },
  {
   "cell_type": "markdown",
   "id": "0f572aa6",
   "metadata": {},
   "source": [
    "# Additional Optimization Options"
   ]
  },
  {
   "cell_type": "markdown",
   "id": "3b83829f",
   "metadata": {},
   "source": [
    "### Option 1: Reduce Model Size Before Compression"
   ]
  },
  {
   "cell_type": "markdown",
   "id": "2866a3df",
   "metadata": {},
   "source": [
    "###### If using RandomForest, reduce number of trees and depth"
   ]
  },
  {
   "cell_type": "code",
   "execution_count": 7,
   "id": "e0b04263",
   "metadata": {},
   "outputs": [],
   "source": [
    "from sklearn.ensemble import RandomForestClassifier\n",
    "\n",
    "# If using RandomForest, reduce number of trees and depth\n",
    "from sklearn.datasets import make_classification\n",
    "\n",
    "# Create sample data for demonstration\n",
    "X_train, y_train = make_classification(n_samples=100, n_features=4, n_classes=2, random_state=42)\n",
    "\n",
    "optimized_model = RandomForestClassifier(\n",
    "    n_estimators=100,  # Reduced from default 100\n",
    "    max_depth=10,      # Reduced from default None\n",
    "    random_state=42\n",
    ")\n",
    "optimized_model.fit(X_train, y_train)\n",
    "\n",
    "# Then compress this smaller model\n",
    "compressed_pickle('optimized_compressed_model', optimized_model)"
   ]
  },
  {
   "cell_type": "markdown",
   "id": "5a4306ef",
   "metadata": {},
   "source": [
    "### Option 2: Use a More Efficient Model"
   ]
  },
  {
   "cell_type": "code",
   "execution_count": 8,
   "id": "0c4b7c30",
   "metadata": {},
   "outputs": [],
   "source": [
    "\n",
    "from xgboost import XGBClassifier\n",
    "\n",
    "# XGBoost models are typically smaller\n",
    "xgb_model = XGBClassifier(\n",
    "    n_estimators=50,\n",
    "    max_depth=5,\n",
    "    random_state=42\n",
    ")\n",
    "xgb_model.fit(X_train, y_train)\n",
    "\n",
    "compressed_pickle('xgb_compressed_model', xgb_model)"
   ]
  },
  {
   "cell_type": "markdown",
   "id": "dbff03a8",
   "metadata": {},
   "source": [
    "# Verification steps"
   ]
  },
  {
   "cell_type": "markdown",
   "id": "add1ca16",
   "metadata": {},
   "source": [
    "### Check the compressed file size:"
   ]
  },
  {
   "cell_type": "code",
   "execution_count": 9,
   "id": "8f7e3a5d",
   "metadata": {},
   "outputs": [
    {
     "name": "stdout",
     "output_type": "stream",
     "text": [
      "Original size: 83.0 MB\n",
      "Compressed size: 8.0 MB\n"
     ]
    }
   ],
   "source": [
    "import os\n",
    "print(f\"Original size: {os.path.getsize('loan_model.joblib')/1e6:.1f} MB\")\n",
    "print(f\"Compressed size: {os.path.getsize('compressed_loan_model.pbz2')/1e6:.1f} MB\")"
   ]
  },
  {
   "cell_type": "markdown",
   "id": "78ee1bb5",
   "metadata": {},
   "source": [
    "### Verify the compressed model works:"
   ]
  },
  {
   "cell_type": "code",
   "execution_count": 10,
   "id": "64361e15",
   "metadata": {},
   "outputs": [
    {
     "ename": "NameError",
     "evalue": "name 'X_test' is not defined",
     "output_type": "error",
     "traceback": [
      "\u001b[31m---------------------------------------------------------------------------\u001b[39m",
      "\u001b[31mNameError\u001b[39m                                 Traceback (most recent call last)",
      "\u001b[36mCell\u001b[39m\u001b[36m \u001b[39m\u001b[32mIn[10]\u001b[39m\u001b[32m, line 1\u001b[39m\n\u001b[32m----> \u001b[39m\u001b[32m1\u001b[39m test_prediction = model.predict(\u001b[43mX_test\u001b[49m[:\u001b[32m1\u001b[39m])\n\u001b[32m      2\u001b[39m \u001b[38;5;28mprint\u001b[39m(\u001b[33mf\u001b[39m\u001b[33m\"\u001b[39m\u001b[33mTest prediction: \u001b[39m\u001b[38;5;132;01m{\u001b[39;00mtest_prediction\u001b[38;5;132;01m}\u001b[39;00m\u001b[33m\"\u001b[39m)\n",
      "\u001b[31mNameError\u001b[39m: name 'X_test' is not defined"
     ]
    }
   ],
   "source": [
    "test_prediction = model.predict(X_test[:1])\n",
    "print(f\"Test prediction: {test_prediction}\")"
   ]
  }
 ],
 "metadata": {
  "kernelspec": {
   "display_name": "Python 3",
   "language": "python",
   "name": "python3"
  },
  "language_info": {
   "codemirror_mode": {
    "name": "ipython",
    "version": 3
   },
   "file_extension": ".py",
   "mimetype": "text/x-python",
   "name": "python",
   "nbconvert_exporter": "python",
   "pygments_lexer": "ipython3",
   "version": "3.12.3"
  }
 },
 "nbformat": 4,
 "nbformat_minor": 5
}
